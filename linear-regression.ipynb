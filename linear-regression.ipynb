{
 "cells": [
  {
   "cell_type": "code",
   "execution_count": 1,
   "id": "ac375600",
   "metadata": {
    "_cell_guid": "b1076dfc-b9ad-4769-8c92-a6c4dae69d19",
    "_uuid": "8f2839f25d086af736a60e9eeb907d3b93b6e0e5",
    "execution": {
     "iopub.execute_input": "2023-01-28T14:21:19.031016Z",
     "iopub.status.busy": "2023-01-28T14:21:19.030351Z",
     "iopub.status.idle": "2023-01-28T14:21:19.057712Z",
     "shell.execute_reply": "2023-01-28T14:21:19.056502Z"
    },
    "papermill": {
     "duration": 0.041075,
     "end_time": "2023-01-28T14:21:19.060824",
     "exception": false,
     "start_time": "2023-01-28T14:21:19.019749",
     "status": "completed"
    },
    "tags": []
   },
   "outputs": [
    {
     "name": "stdout",
     "output_type": "stream",
     "text": [
      "/kaggle/input/ecommerce/Ecommerce Customers.csv\n"
     ]
    }
   ],
   "source": [
    "# This Python 3 environment comes with many helpful analytics libraries installed\n",
    "# It is defined by the kaggle/python Docker image: https://github.com/kaggle/docker-python\n",
    "# For example, here's several helpful packages to load\n",
    "\n",
    "import numpy as np # linear algebra\n",
    "import pandas as pd # data processing, CSV file I/O (e.g. pd.read_csv)\n",
    "\n",
    "# Input data files are available in the read-only \"../input/\" directory\n",
    "# For example, running this (by clicking run or pressing Shift+Enter) will list all files under the input directory\n",
    "\n",
    "import os\n",
    "for dirname, _, filenames in os.walk('/kaggle/input'):\n",
    "    for filename in filenames:\n",
    "        print(os.path.join(dirname,filename))\n",
    "\n",
    "# You can write up to 20GB to the current directory (/kaggle/working/) that gets preserved as output when you create a version using \"Save & Run All\" \n",
    "# You can also write temporary files to /kaggle/temp/, but they won't be saved outside of the current session"
   ]
  },
  {
   "cell_type": "code",
   "execution_count": 2,
   "id": "9ae915a4",
   "metadata": {
    "execution": {
     "iopub.execute_input": "2023-01-28T14:21:19.075770Z",
     "iopub.status.busy": "2023-01-28T14:21:19.075371Z",
     "iopub.status.idle": "2023-01-28T14:21:19.095158Z",
     "shell.execute_reply": "2023-01-28T14:21:19.093662Z"
    },
    "papermill": {
     "duration": 0.031886,
     "end_time": "2023-01-28T14:21:19.099532",
     "exception": false,
     "start_time": "2023-01-28T14:21:19.067646",
     "status": "completed"
    },
    "tags": []
   },
   "outputs": [],
   "source": [
    "data=pd.read_csv('/kaggle/input/ecommerce/Ecommerce Customers.csv')"
   ]
  },
  {
   "cell_type": "code",
   "execution_count": 3,
   "id": "c8d46f85",
   "metadata": {
    "execution": {
     "iopub.execute_input": "2023-01-28T14:21:19.114457Z",
     "iopub.status.busy": "2023-01-28T14:21:19.114073Z",
     "iopub.status.idle": "2023-01-28T14:21:19.143660Z",
     "shell.execute_reply": "2023-01-28T14:21:19.142130Z"
    },
    "papermill": {
     "duration": 0.041213,
     "end_time": "2023-01-28T14:21:19.147467",
     "exception": false,
     "start_time": "2023-01-28T14:21:19.106254",
     "status": "completed"
    },
    "tags": []
   },
   "outputs": [
    {
     "data": {
      "text/html": [
       "<div>\n",
       "<style scoped>\n",
       "    .dataframe tbody tr th:only-of-type {\n",
       "        vertical-align: middle;\n",
       "    }\n",
       "\n",
       "    .dataframe tbody tr th {\n",
       "        vertical-align: top;\n",
       "    }\n",
       "\n",
       "    .dataframe thead th {\n",
       "        text-align: right;\n",
       "    }\n",
       "</style>\n",
       "<table border=\"1\" class=\"dataframe\">\n",
       "  <thead>\n",
       "    <tr style=\"text-align: right;\">\n",
       "      <th></th>\n",
       "      <th>Email</th>\n",
       "      <th>Address</th>\n",
       "      <th>Avatar</th>\n",
       "      <th>Avg. Session Length</th>\n",
       "      <th>Time on App</th>\n",
       "      <th>Time on Website</th>\n",
       "      <th>Length of Membership</th>\n",
       "      <th>Yearly Amount Spent</th>\n",
       "    </tr>\n",
       "  </thead>\n",
       "  <tbody>\n",
       "    <tr>\n",
       "      <th>0</th>\n",
       "      <td>mstephenson@fernandez.com</td>\n",
       "      <td>835 Frank Tunnel\\nWrightmouth, MI 82180-9605</td>\n",
       "      <td>Violet</td>\n",
       "      <td>34.497268</td>\n",
       "      <td>12.655651</td>\n",
       "      <td>39.577668</td>\n",
       "      <td>4.082621</td>\n",
       "      <td>587.951054</td>\n",
       "    </tr>\n",
       "    <tr>\n",
       "      <th>1</th>\n",
       "      <td>hduke@hotmail.com</td>\n",
       "      <td>4547 Archer Common\\nDiazchester, CA 06566-8576</td>\n",
       "      <td>DarkGreen</td>\n",
       "      <td>31.926272</td>\n",
       "      <td>11.109461</td>\n",
       "      <td>37.268959</td>\n",
       "      <td>2.664034</td>\n",
       "      <td>392.204933</td>\n",
       "    </tr>\n",
       "    <tr>\n",
       "      <th>2</th>\n",
       "      <td>pallen@yahoo.com</td>\n",
       "      <td>24645 Valerie Unions Suite 582\\nCobbborough, D...</td>\n",
       "      <td>Bisque</td>\n",
       "      <td>33.000915</td>\n",
       "      <td>11.330278</td>\n",
       "      <td>37.110597</td>\n",
       "      <td>4.104543</td>\n",
       "      <td>487.547505</td>\n",
       "    </tr>\n",
       "    <tr>\n",
       "      <th>3</th>\n",
       "      <td>riverarebecca@gmail.com</td>\n",
       "      <td>1414 David Throughway\\nPort Jason, OH 22070-1220</td>\n",
       "      <td>SaddleBrown</td>\n",
       "      <td>34.305557</td>\n",
       "      <td>13.717514</td>\n",
       "      <td>36.721283</td>\n",
       "      <td>3.120179</td>\n",
       "      <td>581.852344</td>\n",
       "    </tr>\n",
       "    <tr>\n",
       "      <th>4</th>\n",
       "      <td>mstephens@davidson-herman.com</td>\n",
       "      <td>14023 Rodriguez Passage\\nPort Jacobville, PR 3...</td>\n",
       "      <td>MediumAquaMarine</td>\n",
       "      <td>33.330673</td>\n",
       "      <td>12.795189</td>\n",
       "      <td>37.536653</td>\n",
       "      <td>4.446308</td>\n",
       "      <td>599.406092</td>\n",
       "    </tr>\n",
       "    <tr>\n",
       "      <th>...</th>\n",
       "      <td>...</td>\n",
       "      <td>...</td>\n",
       "      <td>...</td>\n",
       "      <td>...</td>\n",
       "      <td>...</td>\n",
       "      <td>...</td>\n",
       "      <td>...</td>\n",
       "      <td>...</td>\n",
       "    </tr>\n",
       "    <tr>\n",
       "      <th>495</th>\n",
       "      <td>lewisjessica@craig-evans.com</td>\n",
       "      <td>4483 Jones Motorway Suite 872\\nLake Jamiefurt,...</td>\n",
       "      <td>Tan</td>\n",
       "      <td>33.237660</td>\n",
       "      <td>13.566160</td>\n",
       "      <td>36.417985</td>\n",
       "      <td>3.746573</td>\n",
       "      <td>573.847438</td>\n",
       "    </tr>\n",
       "    <tr>\n",
       "      <th>496</th>\n",
       "      <td>katrina56@gmail.com</td>\n",
       "      <td>172 Owen Divide Suite 497\\nWest Richard, CA 19320</td>\n",
       "      <td>PaleVioletRed</td>\n",
       "      <td>34.702529</td>\n",
       "      <td>11.695736</td>\n",
       "      <td>37.190268</td>\n",
       "      <td>3.576526</td>\n",
       "      <td>529.049004</td>\n",
       "    </tr>\n",
       "    <tr>\n",
       "      <th>497</th>\n",
       "      <td>dale88@hotmail.com</td>\n",
       "      <td>0787 Andrews Ranch Apt. 633\\nSouth Chadburgh, ...</td>\n",
       "      <td>Cornsilk</td>\n",
       "      <td>32.646777</td>\n",
       "      <td>11.499409</td>\n",
       "      <td>38.332576</td>\n",
       "      <td>4.958264</td>\n",
       "      <td>551.620145</td>\n",
       "    </tr>\n",
       "    <tr>\n",
       "      <th>498</th>\n",
       "      <td>cwilson@hotmail.com</td>\n",
       "      <td>680 Jennifer Lodge Apt. 808\\nBrendachester, TX...</td>\n",
       "      <td>Teal</td>\n",
       "      <td>33.322501</td>\n",
       "      <td>12.391423</td>\n",
       "      <td>36.840086</td>\n",
       "      <td>2.336485</td>\n",
       "      <td>456.469510</td>\n",
       "    </tr>\n",
       "    <tr>\n",
       "      <th>499</th>\n",
       "      <td>hannahwilson@davidson.com</td>\n",
       "      <td>49791 Rachel Heights Apt. 898\\nEast Drewboroug...</td>\n",
       "      <td>DarkMagenta</td>\n",
       "      <td>33.715981</td>\n",
       "      <td>12.418808</td>\n",
       "      <td>35.771016</td>\n",
       "      <td>2.735160</td>\n",
       "      <td>497.778642</td>\n",
       "    </tr>\n",
       "  </tbody>\n",
       "</table>\n",
       "<p>500 rows × 8 columns</p>\n",
       "</div>"
      ],
      "text/plain": [
       "                             Email  \\\n",
       "0        mstephenson@fernandez.com   \n",
       "1                hduke@hotmail.com   \n",
       "2                 pallen@yahoo.com   \n",
       "3          riverarebecca@gmail.com   \n",
       "4    mstephens@davidson-herman.com   \n",
       "..                             ...   \n",
       "495   lewisjessica@craig-evans.com   \n",
       "496            katrina56@gmail.com   \n",
       "497             dale88@hotmail.com   \n",
       "498            cwilson@hotmail.com   \n",
       "499      hannahwilson@davidson.com   \n",
       "\n",
       "                                               Address            Avatar  \\\n",
       "0         835 Frank Tunnel\\nWrightmouth, MI 82180-9605            Violet   \n",
       "1       4547 Archer Common\\nDiazchester, CA 06566-8576         DarkGreen   \n",
       "2    24645 Valerie Unions Suite 582\\nCobbborough, D...            Bisque   \n",
       "3     1414 David Throughway\\nPort Jason, OH 22070-1220       SaddleBrown   \n",
       "4    14023 Rodriguez Passage\\nPort Jacobville, PR 3...  MediumAquaMarine   \n",
       "..                                                 ...               ...   \n",
       "495  4483 Jones Motorway Suite 872\\nLake Jamiefurt,...               Tan   \n",
       "496  172 Owen Divide Suite 497\\nWest Richard, CA 19320     PaleVioletRed   \n",
       "497  0787 Andrews Ranch Apt. 633\\nSouth Chadburgh, ...          Cornsilk   \n",
       "498  680 Jennifer Lodge Apt. 808\\nBrendachester, TX...              Teal   \n",
       "499  49791 Rachel Heights Apt. 898\\nEast Drewboroug...       DarkMagenta   \n",
       "\n",
       "     Avg. Session Length  Time on App  Time on Website  Length of Membership  \\\n",
       "0              34.497268    12.655651        39.577668              4.082621   \n",
       "1              31.926272    11.109461        37.268959              2.664034   \n",
       "2              33.000915    11.330278        37.110597              4.104543   \n",
       "3              34.305557    13.717514        36.721283              3.120179   \n",
       "4              33.330673    12.795189        37.536653              4.446308   \n",
       "..                   ...          ...              ...                   ...   \n",
       "495            33.237660    13.566160        36.417985              3.746573   \n",
       "496            34.702529    11.695736        37.190268              3.576526   \n",
       "497            32.646777    11.499409        38.332576              4.958264   \n",
       "498            33.322501    12.391423        36.840086              2.336485   \n",
       "499            33.715981    12.418808        35.771016              2.735160   \n",
       "\n",
       "     Yearly Amount Spent  \n",
       "0             587.951054  \n",
       "1             392.204933  \n",
       "2             487.547505  \n",
       "3             581.852344  \n",
       "4             599.406092  \n",
       "..                   ...  \n",
       "495           573.847438  \n",
       "496           529.049004  \n",
       "497           551.620145  \n",
       "498           456.469510  \n",
       "499           497.778642  \n",
       "\n",
       "[500 rows x 8 columns]"
      ]
     },
     "execution_count": 3,
     "metadata": {},
     "output_type": "execute_result"
    }
   ],
   "source": [
    "data"
   ]
  },
  {
   "cell_type": "code",
   "execution_count": 4,
   "id": "60a6d06e",
   "metadata": {
    "execution": {
     "iopub.execute_input": "2023-01-28T14:21:19.164286Z",
     "iopub.status.busy": "2023-01-28T14:21:19.163533Z",
     "iopub.status.idle": "2023-01-28T14:21:20.289547Z",
     "shell.execute_reply": "2023-01-28T14:21:20.288584Z"
    },
    "papermill": {
     "duration": 1.137282,
     "end_time": "2023-01-28T14:21:20.292098",
     "exception": false,
     "start_time": "2023-01-28T14:21:19.154816",
     "status": "completed"
    },
    "tags": []
   },
   "outputs": [],
   "source": [
    "import matplotlib as plt\n",
    "import seaborn as sns\n",
    "%matplotlib inline"
   ]
  },
  {
   "cell_type": "code",
   "execution_count": 5,
   "id": "89ef3990",
   "metadata": {
    "execution": {
     "iopub.execute_input": "2023-01-28T14:21:20.308600Z",
     "iopub.status.busy": "2023-01-28T14:21:20.307954Z",
     "iopub.status.idle": "2023-01-28T14:21:20.347472Z",
     "shell.execute_reply": "2023-01-28T14:21:20.346353Z"
    },
    "papermill": {
     "duration": 0.050675,
     "end_time": "2023-01-28T14:21:20.350042",
     "exception": false,
     "start_time": "2023-01-28T14:21:20.299367",
     "status": "completed"
    },
    "tags": []
   },
   "outputs": [
    {
     "data": {
      "text/html": [
       "<div>\n",
       "<style scoped>\n",
       "    .dataframe tbody tr th:only-of-type {\n",
       "        vertical-align: middle;\n",
       "    }\n",
       "\n",
       "    .dataframe tbody tr th {\n",
       "        vertical-align: top;\n",
       "    }\n",
       "\n",
       "    .dataframe thead th {\n",
       "        text-align: right;\n",
       "    }\n",
       "</style>\n",
       "<table border=\"1\" class=\"dataframe\">\n",
       "  <thead>\n",
       "    <tr style=\"text-align: right;\">\n",
       "      <th></th>\n",
       "      <th>Avg. Session Length</th>\n",
       "      <th>Time on App</th>\n",
       "      <th>Time on Website</th>\n",
       "      <th>Length of Membership</th>\n",
       "      <th>Yearly Amount Spent</th>\n",
       "    </tr>\n",
       "  </thead>\n",
       "  <tbody>\n",
       "    <tr>\n",
       "      <th>count</th>\n",
       "      <td>500.000000</td>\n",
       "      <td>500.000000</td>\n",
       "      <td>500.000000</td>\n",
       "      <td>500.000000</td>\n",
       "      <td>500.000000</td>\n",
       "    </tr>\n",
       "    <tr>\n",
       "      <th>mean</th>\n",
       "      <td>33.053194</td>\n",
       "      <td>12.052488</td>\n",
       "      <td>37.060445</td>\n",
       "      <td>3.533462</td>\n",
       "      <td>499.314038</td>\n",
       "    </tr>\n",
       "    <tr>\n",
       "      <th>std</th>\n",
       "      <td>0.992563</td>\n",
       "      <td>0.994216</td>\n",
       "      <td>1.010489</td>\n",
       "      <td>0.999278</td>\n",
       "      <td>79.314782</td>\n",
       "    </tr>\n",
       "    <tr>\n",
       "      <th>min</th>\n",
       "      <td>29.532429</td>\n",
       "      <td>8.508152</td>\n",
       "      <td>33.913847</td>\n",
       "      <td>0.269901</td>\n",
       "      <td>256.670582</td>\n",
       "    </tr>\n",
       "    <tr>\n",
       "      <th>25%</th>\n",
       "      <td>32.341822</td>\n",
       "      <td>11.388153</td>\n",
       "      <td>36.349257</td>\n",
       "      <td>2.930450</td>\n",
       "      <td>445.038277</td>\n",
       "    </tr>\n",
       "    <tr>\n",
       "      <th>50%</th>\n",
       "      <td>33.082008</td>\n",
       "      <td>11.983231</td>\n",
       "      <td>37.069367</td>\n",
       "      <td>3.533975</td>\n",
       "      <td>498.887875</td>\n",
       "    </tr>\n",
       "    <tr>\n",
       "      <th>75%</th>\n",
       "      <td>33.711985</td>\n",
       "      <td>12.753850</td>\n",
       "      <td>37.716432</td>\n",
       "      <td>4.126502</td>\n",
       "      <td>549.313828</td>\n",
       "    </tr>\n",
       "    <tr>\n",
       "      <th>max</th>\n",
       "      <td>36.139662</td>\n",
       "      <td>15.126994</td>\n",
       "      <td>40.005182</td>\n",
       "      <td>6.922689</td>\n",
       "      <td>765.518462</td>\n",
       "    </tr>\n",
       "  </tbody>\n",
       "</table>\n",
       "</div>"
      ],
      "text/plain": [
       "       Avg. Session Length  Time on App  Time on Website  \\\n",
       "count           500.000000   500.000000       500.000000   \n",
       "mean             33.053194    12.052488        37.060445   \n",
       "std               0.992563     0.994216         1.010489   \n",
       "min              29.532429     8.508152        33.913847   \n",
       "25%              32.341822    11.388153        36.349257   \n",
       "50%              33.082008    11.983231        37.069367   \n",
       "75%              33.711985    12.753850        37.716432   \n",
       "max              36.139662    15.126994        40.005182   \n",
       "\n",
       "       Length of Membership  Yearly Amount Spent  \n",
       "count            500.000000           500.000000  \n",
       "mean               3.533462           499.314038  \n",
       "std                0.999278            79.314782  \n",
       "min                0.269901           256.670582  \n",
       "25%                2.930450           445.038277  \n",
       "50%                3.533975           498.887875  \n",
       "75%                4.126502           549.313828  \n",
       "max                6.922689           765.518462  "
      ]
     },
     "execution_count": 5,
     "metadata": {},
     "output_type": "execute_result"
    }
   ],
   "source": [
    "data.describe()"
   ]
  },
  {
   "cell_type": "code",
   "execution_count": 6,
   "id": "f590f07a",
   "metadata": {
    "execution": {
     "iopub.execute_input": "2023-01-28T14:21:20.367088Z",
     "iopub.status.busy": "2023-01-28T14:21:20.366672Z",
     "iopub.status.idle": "2023-01-28T14:21:20.384029Z",
     "shell.execute_reply": "2023-01-28T14:21:20.382560Z"
    },
    "papermill": {
     "duration": 0.028999,
     "end_time": "2023-01-28T14:21:20.387236",
     "exception": false,
     "start_time": "2023-01-28T14:21:20.358237",
     "status": "completed"
    },
    "tags": []
   },
   "outputs": [
    {
     "name": "stdout",
     "output_type": "stream",
     "text": [
      "<class 'pandas.core.frame.DataFrame'>\n",
      "RangeIndex: 500 entries, 0 to 499\n",
      "Data columns (total 8 columns):\n",
      " #   Column                Non-Null Count  Dtype  \n",
      "---  ------                --------------  -----  \n",
      " 0   Email                 500 non-null    object \n",
      " 1   Address               500 non-null    object \n",
      " 2   Avatar                500 non-null    object \n",
      " 3   Avg. Session Length   500 non-null    float64\n",
      " 4   Time on App           500 non-null    float64\n",
      " 5   Time on Website       500 non-null    float64\n",
      " 6   Length of Membership  500 non-null    float64\n",
      " 7   Yearly Amount Spent   500 non-null    float64\n",
      "dtypes: float64(5), object(3)\n",
      "memory usage: 31.4+ KB\n"
     ]
    }
   ],
   "source": [
    "data.info()"
   ]
  },
  {
   "cell_type": "code",
   "execution_count": 7,
   "id": "0adc67b9",
   "metadata": {
    "execution": {
     "iopub.execute_input": "2023-01-28T14:21:20.404574Z",
     "iopub.status.busy": "2023-01-28T14:21:20.403926Z",
     "iopub.status.idle": "2023-01-28T14:21:20.904135Z",
     "shell.execute_reply": "2023-01-28T14:21:20.902645Z"
    },
    "papermill": {
     "duration": 0.511819,
     "end_time": "2023-01-28T14:21:20.906992",
     "exception": false,
     "start_time": "2023-01-28T14:21:20.395173",
     "status": "completed"
    },
    "tags": []
   },
   "outputs": [
    {
     "data": {
      "text/plain": [
       "<seaborn.axisgrid.JointGrid at 0x7f20c73da310>"
      ]
     },
     "execution_count": 7,
     "metadata": {},
     "output_type": "execute_result"
    },
    {
     "data": {
      "image/png": "[encoded data removed]",
      "text/plain": [
       "<Figure size 432x432 with 3 Axes>"
      ]
     },
     "metadata": {
      "needs_background": "light"
     },
     "output_type": "display_data"
    }
   ],
   "source": [
    "sns.jointplot(x='Time on Website',y ='Yearly Amount Spent', data = data)"
   ]
  },
  {
   "cell_type": "code",
   "execution_count": 8,
   "id": "bb51feb2",
   "metadata": {
    "execution": {
     "iopub.execute_input": "2023-01-28T14:21:20.925464Z",
     "iopub.status.busy": "2023-01-28T14:21:20.925047Z",
     "iopub.status.idle": "2023-01-28T14:21:21.522147Z",
     "shell.execute_reply": "2023-01-28T14:21:21.520944Z"
    },
    "papermill": {
     "duration": 0.609262,
     "end_time": "2023-01-28T14:21:21.524675",
     "exception": false,
     "start_time": "2023-01-28T14:21:20.915413",
     "status": "completed"
    },
    "tags": []
   },
   "outputs": [
    {
     "data": {
      "text/plain": [
       "<seaborn.axisgrid.JointGrid at 0x7f20c4ee6f90>"
      ]
     },
     "execution_count": 8,
     "metadata": {},
     "output_type": "execute_result"
    },
    {
     "data": {
      "image/png": "[encoded data removed]",
      "text/plain": [
       "<Figure size 432x432 with 3 Axes>"
      ]
     },
     "metadata": {
      "needs_background": "light"
     },
     "output_type": "display_data"
    }
   ],
   "source": [
    "sns.jointplot(x='Time on App',y ='Yearly Amount Spent', data = data)"
   ]
  },
  {
   "cell_type": "code",
   "execution_count": 9,
   "id": "90161ad3",
   "metadata": {
    "execution": {
     "iopub.execute_input": "2023-01-28T14:21:21.545271Z",
     "iopub.status.busy": "2023-01-28T14:21:21.544836Z",
     "iopub.status.idle": "2023-01-28T14:21:22.137993Z",
     "shell.execute_reply": "2023-01-28T14:21:22.136716Z"
    },
    "papermill": {
     "duration": 0.605973,
     "end_time": "2023-01-28T14:21:22.140537",
     "exception": false,
     "start_time": "2023-01-28T14:21:21.534564",
     "status": "completed"
    },
    "tags": []
   },
   "outputs": [
    {
     "data": {
      "text/plain": [
       "<seaborn.axisgrid.JointGrid at 0x7f20c4f3c910>"
      ]
     },
     "execution_count": 9,
     "metadata": {},
     "output_type": "execute_result"
    },
    {
     "data": {
      "image/png": "[encoded data removed]",
      "text/plain": [
       "<Figure size 432x432 with 3 Axes>"
      ]
     },
     "metadata": {
      "needs_background": "light"
     },
     "output_type": "display_data"
    }
   ],
   "source": [
    "sns.jointplot(x='Time on App',y ='Length of Membership', data = data, kind='hex')"
   ]
  },
  {
   "cell_type": "code",
   "execution_count": 10,
   "id": "54d5219c",
   "metadata": {
    "execution": {
     "iopub.execute_input": "2023-01-28T14:21:22.161870Z",
     "iopub.status.busy": "2023-01-28T14:21:22.161485Z",
     "iopub.status.idle": "2023-01-28T14:21:22.758189Z",
     "shell.execute_reply": "2023-01-28T14:21:22.755861Z"
    },
    "papermill": {
     "duration": 0.610232,
     "end_time": "2023-01-28T14:21:22.760699",
     "exception": false,
     "start_time": "2023-01-28T14:21:22.150467",
     "status": "completed"
    },
    "tags": []
   },
   "outputs": [
    {
     "data": {
      "text/plain": [
       "<seaborn.axisgrid.FacetGrid at 0x7f20c4d05050>"
      ]
     },
     "execution_count": 10,
     "metadata": {},
     "output_type": "execute_result"
    },
    {
     "data": {
      "image/png": "[encoded data removed]",
      "text/plain": [
       "<Figure size 360x360 with 1 Axes>"
      ]
     },
     "metadata": {},
     "output_type": "display_data"
    }
   ],
   "source": [
    "sns.set(color_codes=True)\n",
    "sns.lmplot(x='Length of Membership', y='Yearly Amount Spent',data=data)"
   ]
  },
  {
   "cell_type": "code",
   "execution_count": 11,
   "id": "4a1dccb3",
   "metadata": {
    "execution": {
     "iopub.execute_input": "2023-01-28T14:21:22.785415Z",
     "iopub.status.busy": "2023-01-28T14:21:22.784962Z",
     "iopub.status.idle": "2023-01-28T14:21:22.791873Z",
     "shell.execute_reply": "2023-01-28T14:21:22.790718Z"
    },
    "papermill": {
     "duration": 0.021087,
     "end_time": "2023-01-28T14:21:22.794274",
     "exception": false,
     "start_time": "2023-01-28T14:21:22.773187",
     "status": "completed"
    },
    "tags": []
   },
   "outputs": [],
   "source": [
    "X = data[['Avg. Session Length', 'Time on App',\n",
    "       'Time on Website', 'Length of Membership']]"
   ]
  },
  {
   "cell_type": "code",
   "execution_count": 12,
   "id": "67247972",
   "metadata": {
    "execution": {
     "iopub.execute_input": "2023-01-28T14:21:22.816507Z",
     "iopub.status.busy": "2023-01-28T14:21:22.816093Z",
     "iopub.status.idle": "2023-01-28T14:21:22.831639Z",
     "shell.execute_reply": "2023-01-28T14:21:22.830411Z"
    },
    "papermill": {
     "duration": 0.029549,
     "end_time": "2023-01-28T14:21:22.834221",
     "exception": false,
     "start_time": "2023-01-28T14:21:22.804672",
     "status": "completed"
    },
    "tags": []
   },
   "outputs": [
    {
     "data": {
      "text/html": [
       "<div>\n",
       "<style scoped>\n",
       "    .dataframe tbody tr th:only-of-type {\n",
       "        vertical-align: middle;\n",
       "    }\n",
       "\n",
       "    .dataframe tbody tr th {\n",
       "        vertical-align: top;\n",
       "    }\n",
       "\n",
       "    .dataframe thead th {\n",
       "        text-align: right;\n",
       "    }\n",
       "</style>\n",
       "<table border=\"1\" class=\"dataframe\">\n",
       "  <thead>\n",
       "    <tr style=\"text-align: right;\">\n",
       "      <th></th>\n",
       "      <th>Avg. Session Length</th>\n",
       "      <th>Time on App</th>\n",
       "      <th>Time on Website</th>\n",
       "      <th>Length of Membership</th>\n",
       "    </tr>\n",
       "  </thead>\n",
       "  <tbody>\n",
       "    <tr>\n",
       "      <th>0</th>\n",
       "      <td>34.497268</td>\n",
       "      <td>12.655651</td>\n",
       "      <td>39.577668</td>\n",
       "      <td>4.082621</td>\n",
       "    </tr>\n",
       "    <tr>\n",
       "      <th>1</th>\n",
       "      <td>31.926272</td>\n",
       "      <td>11.109461</td>\n",
       "      <td>37.268959</td>\n",
       "      <td>2.664034</td>\n",
       "    </tr>\n",
       "    <tr>\n",
       "      <th>2</th>\n",
       "      <td>33.000915</td>\n",
       "      <td>11.330278</td>\n",
       "      <td>37.110597</td>\n",
       "      <td>4.104543</td>\n",
       "    </tr>\n",
       "    <tr>\n",
       "      <th>3</th>\n",
       "      <td>34.305557</td>\n",
       "      <td>13.717514</td>\n",
       "      <td>36.721283</td>\n",
       "      <td>3.120179</td>\n",
       "    </tr>\n",
       "    <tr>\n",
       "      <th>4</th>\n",
       "      <td>33.330673</td>\n",
       "      <td>12.795189</td>\n",
       "      <td>37.536653</td>\n",
       "      <td>4.446308</td>\n",
       "    </tr>\n",
       "    <tr>\n",
       "      <th>...</th>\n",
       "      <td>...</td>\n",
       "      <td>...</td>\n",
       "      <td>...</td>\n",
       "      <td>...</td>\n",
       "    </tr>\n",
       "    <tr>\n",
       "      <th>495</th>\n",
       "      <td>33.237660</td>\n",
       "      <td>13.566160</td>\n",
       "      <td>36.417985</td>\n",
       "      <td>3.746573</td>\n",
       "    </tr>\n",
       "    <tr>\n",
       "      <th>496</th>\n",
       "      <td>34.702529</td>\n",
       "      <td>11.695736</td>\n",
       "      <td>37.190268</td>\n",
       "      <td>3.576526</td>\n",
       "    </tr>\n",
       "    <tr>\n",
       "      <th>497</th>\n",
       "      <td>32.646777</td>\n",
       "      <td>11.499409</td>\n",
       "      <td>38.332576</td>\n",
       "      <td>4.958264</td>\n",
       "    </tr>\n",
       "    <tr>\n",
       "      <th>498</th>\n",
       "      <td>33.322501</td>\n",
       "      <td>12.391423</td>\n",
       "      <td>36.840086</td>\n",
       "      <td>2.336485</td>\n",
       "    </tr>\n",
       "    <tr>\n",
       "      <th>499</th>\n",
       "      <td>33.715981</td>\n",
       "      <td>12.418808</td>\n",
       "      <td>35.771016</td>\n",
       "      <td>2.735160</td>\n",
       "    </tr>\n",
       "  </tbody>\n",
       "</table>\n",
       "<p>500 rows × 4 columns</p>\n",
       "</div>"
      ],
      "text/plain": [
       "     Avg. Session Length  Time on App  Time on Website  Length of Membership\n",
       "0              34.497268    12.655651        39.577668              4.082621\n",
       "1              31.926272    11.109461        37.268959              2.664034\n",
       "2              33.000915    11.330278        37.110597              4.104543\n",
       "3              34.305557    13.717514        36.721283              3.120179\n",
       "4              33.330673    12.795189        37.536653              4.446308\n",
       "..                   ...          ...              ...                   ...\n",
       "495            33.237660    13.566160        36.417985              3.746573\n",
       "496            34.702529    11.695736        37.190268              3.576526\n",
       "497            32.646777    11.499409        38.332576              4.958264\n",
       "498            33.322501    12.391423        36.840086              2.336485\n",
       "499            33.715981    12.418808        35.771016              2.735160\n",
       "\n",
       "[500 rows x 4 columns]"
      ]
     },
     "execution_count": 12,
     "metadata": {},
     "output_type": "execute_result"
    }
   ],
   "source": [
    "X"
   ]
  },
  {
   "cell_type": "code",
   "execution_count": 13,
   "id": "60e896bf",
   "metadata": {
    "execution": {
     "iopub.execute_input": "2023-01-28T14:21:22.856819Z",
     "iopub.status.busy": "2023-01-28T14:21:22.856435Z",
     "iopub.status.idle": "2023-01-28T14:21:22.861199Z",
     "shell.execute_reply": "2023-01-28T14:21:22.860074Z"
    },
    "papermill": {
     "duration": 0.019012,
     "end_time": "2023-01-28T14:21:22.863575",
     "exception": false,
     "start_time": "2023-01-28T14:21:22.844563",
     "status": "completed"
    },
    "tags": []
   },
   "outputs": [],
   "source": [
    "y= data['Yearly Amount Spent']"
   ]
  },
  {
   "cell_type": "code",
   "execution_count": 14,
   "id": "ed66a74a",
   "metadata": {
    "execution": {
     "iopub.execute_input": "2023-01-28T14:21:22.886034Z",
     "iopub.status.busy": "2023-01-28T14:21:22.885605Z",
     "iopub.status.idle": "2023-01-28T14:21:23.088542Z",
     "shell.execute_reply": "2023-01-28T14:21:23.087565Z"
    },
    "papermill": {
     "duration": 0.217375,
     "end_time": "2023-01-28T14:21:23.091301",
     "exception": false,
     "start_time": "2023-01-28T14:21:22.873926",
     "status": "completed"
    },
    "tags": []
   },
   "outputs": [],
   "source": [
    "from sklearn.model_selection import train_test_split"
   ]
  },
  {
   "cell_type": "code",
   "execution_count": 15,
   "id": "6447c44a",
   "metadata": {
    "execution": {
     "iopub.execute_input": "2023-01-28T14:21:23.113731Z",
     "iopub.status.busy": "2023-01-28T14:21:23.113347Z",
     "iopub.status.idle": "2023-01-28T14:21:23.120208Z",
     "shell.execute_reply": "2023-01-28T14:21:23.118870Z"
    },
    "papermill": {
     "duration": 0.021103,
     "end_time": "2023-01-28T14:21:23.122742",
     "exception": false,
     "start_time": "2023-01-28T14:21:23.101639",
     "status": "completed"
    },
    "tags": []
   },
   "outputs": [],
   "source": [
    "X_train, X_test, y_train, y_test = train_test_split(X, y, test_size=0.3, random_state=101)"
   ]
  },
  {
   "cell_type": "code",
   "execution_count": 16,
   "id": "20a5b68f",
   "metadata": {
    "execution": {
     "iopub.execute_input": "2023-01-28T14:21:23.145498Z",
     "iopub.status.busy": "2023-01-28T14:21:23.145117Z",
     "iopub.status.idle": "2023-01-28T14:21:23.224009Z",
     "shell.execute_reply": "2023-01-28T14:21:23.223011Z"
    },
    "papermill": {
     "duration": 0.094,
     "end_time": "2023-01-28T14:21:23.227195",
     "exception": false,
     "start_time": "2023-01-28T14:21:23.133195",
     "status": "completed"
    },
    "tags": []
   },
   "outputs": [],
   "source": [
    "from sklearn.linear_model import LinearRegression"
   ]
  },
  {
   "cell_type": "code",
   "execution_count": 17,
   "id": "4f40e312",
   "metadata": {
    "execution": {
     "iopub.execute_input": "2023-01-28T14:21:23.250031Z",
     "iopub.status.busy": "2023-01-28T14:21:23.249553Z",
     "iopub.status.idle": "2023-01-28T14:21:23.254959Z",
     "shell.execute_reply": "2023-01-28T14:21:23.253816Z"
    },
    "papermill": {
     "duration": 0.019682,
     "end_time": "2023-01-28T14:21:23.257413",
     "exception": false,
     "start_time": "2023-01-28T14:21:23.237731",
     "status": "completed"
    },
    "tags": []
   },
   "outputs": [],
   "source": [
    "lm = LinearRegression()"
   ]
  },
  {
   "cell_type": "code",
   "execution_count": 18,
   "id": "4da33d39",
   "metadata": {
    "execution": {
     "iopub.execute_input": "2023-01-28T14:21:23.280828Z",
     "iopub.status.busy": "2023-01-28T14:21:23.279897Z",
     "iopub.status.idle": "2023-01-28T14:21:23.287747Z",
     "shell.execute_reply": "2023-01-28T14:21:23.286828Z"
    },
    "papermill": {
     "duration": 0.021828,
     "end_time": "2023-01-28T14:21:23.289794",
     "exception": false,
     "start_time": "2023-01-28T14:21:23.267966",
     "status": "completed"
    },
    "tags": []
   },
   "outputs": [
    {
     "data": {
      "text/plain": [
       "LinearRegression()"
      ]
     },
     "execution_count": 18,
     "metadata": {},
     "output_type": "execute_result"
    }
   ],
   "source": [
    "lm"
   ]
  },
  {
   "cell_type": "code",
   "execution_count": 19,
   "id": "a946a7ea",
   "metadata": {
    "execution": {
     "iopub.execute_input": "2023-01-28T14:21:23.313239Z",
     "iopub.status.busy": "2023-01-28T14:21:23.312517Z",
     "iopub.status.idle": "2023-01-28T14:21:23.342082Z",
     "shell.execute_reply": "2023-01-28T14:21:23.340859Z"
    },
    "papermill": {
     "duration": 0.044082,
     "end_time": "2023-01-28T14:21:23.344505",
     "exception": false,
     "start_time": "2023-01-28T14:21:23.300423",
     "status": "completed"
    },
    "tags": []
   },
   "outputs": [
    {
     "data": {
      "text/plain": [
       "LinearRegression()"
      ]
     },
     "execution_count": 19,
     "metadata": {},
     "output_type": "execute_result"
    }
   ],
   "source": [
    "lm.fit(X_train, y_train )"
   ]
  },
  {
   "cell_type": "code",
   "execution_count": 20,
   "id": "3e279dd5",
   "metadata": {
    "execution": {
     "iopub.execute_input": "2023-01-28T14:21:23.368038Z",
     "iopub.status.busy": "2023-01-28T14:21:23.367244Z",
     "iopub.status.idle": "2023-01-28T14:21:23.373780Z",
     "shell.execute_reply": "2023-01-28T14:21:23.372528Z"
    },
    "papermill": {
     "duration": 0.020921,
     "end_time": "2023-01-28T14:21:23.376072",
     "exception": false,
     "start_time": "2023-01-28T14:21:23.355151",
     "status": "completed"
    },
    "tags": []
   },
   "outputs": [
    {
     "name": "stdout",
     "output_type": "stream",
     "text": [
      "[25.98154972 38.59015875  0.19040528 61.27909654]\n"
     ]
    }
   ],
   "source": [
    "print(lm.coef_)"
   ]
  },
  {
   "cell_type": "code",
   "execution_count": 21,
   "id": "61103c70",
   "metadata": {
    "execution": {
     "iopub.execute_input": "2023-01-28T14:21:23.399282Z",
     "iopub.status.busy": "2023-01-28T14:21:23.398872Z",
     "iopub.status.idle": "2023-01-28T14:21:23.405622Z",
     "shell.execute_reply": "2023-01-28T14:21:23.404522Z"
    },
    "papermill": {
     "duration": 0.020996,
     "end_time": "2023-01-28T14:21:23.407826",
     "exception": false,
     "start_time": "2023-01-28T14:21:23.386830",
     "status": "completed"
    },
    "tags": []
   },
   "outputs": [],
   "source": [
    "predictions = lm.predict(X_test)"
   ]
  },
  {
   "cell_type": "code",
   "execution_count": 22,
   "id": "24c01fb4",
   "metadata": {
    "execution": {
     "iopub.execute_input": "2023-01-28T14:21:23.431245Z",
     "iopub.status.busy": "2023-01-28T14:21:23.430768Z",
     "iopub.status.idle": "2023-01-28T14:21:23.440299Z",
     "shell.execute_reply": "2023-01-28T14:21:23.439258Z"
    },
    "papermill": {
     "duration": 0.023893,
     "end_time": "2023-01-28T14:21:23.442499",
     "exception": false,
     "start_time": "2023-01-28T14:21:23.418606",
     "status": "completed"
    },
    "tags": []
   },
   "outputs": [
    {
     "data": {
      "text/plain": [
       "array([456.44186104, 402.72005312, 409.2531539 , 591.4310343 ,\n",
       "       590.01437275, 548.82396607, 577.59737969, 715.44428115,\n",
       "       473.7893446 , 545.9211364 , 337.8580314 , 500.38506697,\n",
       "       552.93478041, 409.6038964 , 765.52590754, 545.83973731,\n",
       "       693.25969124, 507.32416226, 573.10533175, 573.2076631 ,\n",
       "       397.44989709, 555.0985107 , 458.19868141, 482.66899911,\n",
       "       559.2655959 , 413.00946082, 532.25727408, 377.65464817,\n",
       "       535.0209653 , 447.80070905, 595.54339577, 667.14347072,\n",
       "       511.96042791, 573.30433971, 505.02260887, 565.30254655,\n",
       "       460.38785393, 449.74727868, 422.87193429, 456.55615271,\n",
       "       598.10493696, 449.64517443, 615.34948995, 511.88078685,\n",
       "       504.37568058, 515.95249276, 568.64597718, 551.61444684,\n",
       "       356.5552241 , 464.9759817 , 481.66007708, 534.2220025 ,\n",
       "       256.28674001, 505.30810714, 520.01844434, 315.0298707 ,\n",
       "       501.98080155, 387.03842642, 472.97419543, 432.8704675 ,\n",
       "       539.79082198, 590.03070739, 752.86997652, 558.27858232,\n",
       "       523.71988382, 431.77690078, 425.38411902, 518.75571466,\n",
       "       641.9667215 , 481.84855126, 549.69830187, 380.93738919,\n",
       "       555.18178277, 403.43054276, 472.52458887, 501.82927633,\n",
       "       473.5561656 , 456.76720365, 554.74980563, 702.96835044,\n",
       "       534.68884588, 619.18843136, 500.11974127, 559.43899225,\n",
       "       574.8730604 , 505.09183544, 529.9537559 , 479.20749452,\n",
       "       424.78407899, 452.20986599, 525.74178343, 556.60674724,\n",
       "       425.7142882 , 588.8473985 , 490.77053065, 562.56866231,\n",
       "       495.75782933, 445.17937217, 456.64011682, 537.98437395,\n",
       "       367.06451757, 421.12767301, 551.59651363, 528.26019754,\n",
       "       493.47639211, 495.28105313, 519.81827269, 461.15666582,\n",
       "       528.8711677 , 442.89818166, 543.20201646, 350.07871481,\n",
       "       401.49148567, 606.87291134, 577.04816561, 524.50431281,\n",
       "       554.11225704, 507.93347015, 505.35674292, 371.65146821,\n",
       "       342.37232987, 634.43998975, 523.46931378, 532.7831345 ,\n",
       "       574.59948331, 435.57455636, 599.92586678, 487.24017405,\n",
       "       457.66383406, 425.25959495, 331.81731213, 443.70458331,\n",
       "       563.47279005, 466.14764208, 463.51837671, 381.29445432,\n",
       "       411.88795623, 473.48087683, 573.31745784, 417.55430913,\n",
       "       543.50149858, 547.81091537, 547.62977348, 450.99057409,\n",
       "       561.50896321, 478.30076589, 484.41029555, 457.59099941,\n",
       "       411.52657592, 375.47900638])"
      ]
     },
     "execution_count": 22,
     "metadata": {},
     "output_type": "execute_result"
    }
   ],
   "source": [
    "predictions"
   ]
  },
  {
   "cell_type": "code",
   "execution_count": 23,
   "id": "3b3a4614",
   "metadata": {
    "execution": {
     "iopub.execute_input": "2023-01-28T14:21:23.466082Z",
     "iopub.status.busy": "2023-01-28T14:21:23.465632Z",
     "iopub.status.idle": "2023-01-28T14:21:23.709547Z",
     "shell.execute_reply": "2023-01-28T14:21:23.708609Z"
    },
    "papermill": {
     "duration": 0.258832,
     "end_time": "2023-01-28T14:21:23.712077",
     "exception": false,
     "start_time": "2023-01-28T14:21:23.453245",
     "status": "completed"
    },
    "tags": []
   },
   "outputs": [
    {
     "data": {
      "text/plain": [
       "Text(0.5, 0, 'Y test')"
      ]
     },
     "execution_count": 23,
     "metadata": {},
     "output_type": "execute_result"
    },
    {
     "data": {
      "image/png": "[encoded data removed]",
      "text/plain": [
       "<Figure size 432x288 with 1 Axes>"
      ]
     },
     "metadata": {},
     "output_type": "display_data"
    }
   ],
   "source": [
    "plt.pyplot.scatter(y_test, predictions)\n",
    "plt.pyplot.ylabel('Predicted')\n",
    "plt.pyplot.xlabel('Y test')"
   ]
  },
  {
   "cell_type": "code",
   "execution_count": 24,
   "id": "fd5609da",
   "metadata": {
    "execution": {
     "iopub.execute_input": "2023-01-28T14:21:23.736988Z",
     "iopub.status.busy": "2023-01-28T14:21:23.736546Z",
     "iopub.status.idle": "2023-01-28T14:21:23.746606Z",
     "shell.execute_reply": "2023-01-28T14:21:23.745289Z"
    },
    "papermill": {
     "duration": 0.025431,
     "end_time": "2023-01-28T14:21:23.748827",
     "exception": false,
     "start_time": "2023-01-28T14:21:23.723396",
     "status": "completed"
    },
    "tags": []
   },
   "outputs": [
    {
     "name": "stdout",
     "output_type": "stream",
     "text": [
      "MAE: 7.228148653430826\n",
      "MSE: 79.81305165097427\n",
      "RMSE: 8.933815066978624\n"
     ]
    }
   ],
   "source": [
    "import sklearn.metrics as metrics\n",
    "print('MAE: {}'.format(metrics.mean_absolute_error(y_test, predictions)))\n",
    "print('MSE: {}'.format(metrics.mean_squared_error(y_test, predictions)))\n",
    "print('RMSE: {}'.format(np.sqrt(metrics.mean_squared_error(y_test, predictions))))"
   ]
  },
  {
   "cell_type": "code",
   "execution_count": 25,
   "id": "3eb24bbc",
   "metadata": {
    "execution": {
     "iopub.execute_input": "2023-01-28T14:21:23.773612Z",
     "iopub.status.busy": "2023-01-28T14:21:23.773240Z",
     "iopub.status.idle": "2023-01-28T14:21:24.028300Z",
     "shell.execute_reply": "2023-01-28T14:21:24.027462Z"
    },
    "papermill": {
     "duration": 0.270378,
     "end_time": "2023-01-28T14:21:24.030639",
     "exception": false,
     "start_time": "2023-01-28T14:21:23.760261",
     "status": "completed"
    },
    "tags": []
   },
   "outputs": [
    {
     "name": "stderr",
     "output_type": "stream",
     "text": [
      "/opt/conda/lib/python3.7/site-packages/seaborn/distributions.py:2619: FutureWarning: `distplot` is a deprecated function and will be removed in a future version. Please adapt your code to use either `displot` (a figure-level function with similar flexibility) or `histplot` (an axes-level function for histograms).\n",
      "  warnings.warn(msg, FutureWarning)\n"
     ]
    },
    {
     "data": {
      "text/plain": [
       "<AxesSubplot:xlabel='Yearly Amount Spent', ylabel='Density'>"
      ]
     },
     "execution_count": 25,
     "metadata": {},
     "output_type": "execute_result"
    },
    {
     "data": {
      "image/png": "[encoded data removed]",
      "text/plain": [
       "<Figure size 432x288 with 1 Axes>"
      ]
     },
     "metadata": {},
     "output_type": "display_data"
    }
   ],
   "source": [
    "sns.distplot((y_test-predictions))"
   ]
  },
  {
   "cell_type": "code",
   "execution_count": 26,
   "id": "f2051aa2",
   "metadata": {
    "execution": {
     "iopub.execute_input": "2023-01-28T14:21:24.058294Z",
     "iopub.status.busy": "2023-01-28T14:21:24.057781Z",
     "iopub.status.idle": "2023-01-28T14:21:24.070719Z",
     "shell.execute_reply": "2023-01-28T14:21:24.069953Z"
    },
    "papermill": {
     "duration": 0.030356,
     "end_time": "2023-01-28T14:21:24.072942",
     "exception": false,
     "start_time": "2023-01-28T14:21:24.042586",
     "status": "completed"
    },
    "tags": []
   },
   "outputs": [
    {
     "data": {
      "text/html": [
       "<div>\n",
       "<style scoped>\n",
       "    .dataframe tbody tr th:only-of-type {\n",
       "        vertical-align: middle;\n",
       "    }\n",
       "\n",
       "    .dataframe tbody tr th {\n",
       "        vertical-align: top;\n",
       "    }\n",
       "\n",
       "    .dataframe thead th {\n",
       "        text-align: right;\n",
       "    }\n",
       "</style>\n",
       "<table border=\"1\" class=\"dataframe\">\n",
       "  <thead>\n",
       "    <tr style=\"text-align: right;\">\n",
       "      <th></th>\n",
       "      <th>Coeffecient</th>\n",
       "    </tr>\n",
       "  </thead>\n",
       "  <tbody>\n",
       "    <tr>\n",
       "      <th>Avg. Session Length</th>\n",
       "      <td>25.981550</td>\n",
       "    </tr>\n",
       "    <tr>\n",
       "      <th>Time on App</th>\n",
       "      <td>38.590159</td>\n",
       "    </tr>\n",
       "    <tr>\n",
       "      <th>Time on Website</th>\n",
       "      <td>0.190405</td>\n",
       "    </tr>\n",
       "    <tr>\n",
       "      <th>Length of Membership</th>\n",
       "      <td>61.279097</td>\n",
       "    </tr>\n",
       "  </tbody>\n",
       "</table>\n",
       "</div>"
      ],
      "text/plain": [
       "                      Coeffecient\n",
       "Avg. Session Length     25.981550\n",
       "Time on App             38.590159\n",
       "Time on Website          0.190405\n",
       "Length of Membership    61.279097"
      ]
     },
     "execution_count": 26,
     "metadata": {},
     "output_type": "execute_result"
    }
   ],
   "source": [
    "pd.DataFrame(lm.coef_ , X.columns, columns=['Coeffecient'])"
   ]
  },
  {
   "cell_type": "code",
   "execution_count": null,
   "id": "ce64d1ba",
   "metadata": {
    "papermill": {
     "duration": 0.011694,
     "end_time": "2023-01-28T14:21:24.096684",
     "exception": false,
     "start_time": "2023-01-28T14:21:24.084990",
     "status": "completed"
    },
    "tags": []
   },
   "outputs": [],
   "source": []
  }
 ],
 "metadata": {
  "kernelspec": {
   "display_name": "Python 3",
   "language": "python",
   "name": "python3"
  },
  "language_info": {
   "codemirror_mode": {
    "name": "ipython",
    "version": 3
   },
   "file_extension": ".py",
   "mimetype": "text/x-python",
   "name": "python",
   "nbconvert_exporter": "python",
   "pygments_lexer": "ipython3",
   "version": "3.7.12"
  },
  "papermill": {
   "default_parameters": {},
   "duration": 14.579937,
   "end_time": "2023-01-28T14:21:24.931653",
   "environment_variables": {},
   "exception": null,
   "input_path": "__notebook__.ipynb",
   "output_path": "__notebook__.ipynb",
   "parameters": {},
   "start_time": "2023-01-28T14:21:10.351716",
   "version": "2.3.4"
  }
 },
 "nbformat": 4,
 "nbformat_minor": 5
}
